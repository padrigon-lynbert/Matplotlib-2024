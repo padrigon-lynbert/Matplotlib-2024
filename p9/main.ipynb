{
 "cells": [
  {
   "cell_type": "code",
   "execution_count": 2,
   "metadata": {},
   "outputs": [],
   "source": [
    "import random\n",
    "from itertools import count\n",
    "import pandas as pd\n",
    "import matplotlib.pyplot as plt\n",
    "from matplotlib.animation import FuncAnimation\n",
    "\n",
    "plt.style.use('fivethirtyeight')"
   ]
  },
  {
   "cell_type": "code",
   "execution_count": null,
   "metadata": {},
   "outputs": [],
   "source": [
    "x_vals = []\n",
    "y_vals = []\n",
    "\n",
    "# plt.plot(x_vals, y_vals)\n",
    "\n",
    "index = count()\n",
    "\n",
    "def animate(i):\n",
    "    x_vals.append(next(index))\n",
    "    y_vals.append(random.randint(0, 5))\n",
    "    plt.cla()\n",
    "    plt.plot(x_vals, y_vals)\n",
    "\n",
    "ani = FuncAnimation(plt.gcf(), animate, interval=1000)\n",
    "\n",
    "plt.tight_layout()\n",
    "plt.show()"
   ]
  },
  {
   "cell_type": "code",
   "execution_count": null,
   "metadata": {},
   "outputs": [],
   "source": [
    "import csv\n",
    "import random\n",
    "import time\n",
    "\n",
    "x_value = 0\n",
    "total_1 = 1000\n",
    "total_2 = 1000\n",
    "\n",
    "fieldnames = [\"x_value\", \"total_1\", \"total_2\"]\n",
    "\n",
    "\n",
    "with open('data.csv', 'w') as csv_file:\n",
    "    csv_writer = csv.DictWriter(csv_file, fieldnames=fieldnames)\n",
    "    csv_writer.writeheader()\n",
    "\n",
    "while True:\n",
    "\n",
    "    with open('data.csv', 'a') as csv_file:\n",
    "        csv_writer = csv.DictWriter(csv_file, fieldnames=fieldnames)\n",
    "\n",
    "        info = {\n",
    "            \"x_value\": x_value,\n",
    "            \"total_1\": total_1,\n",
    "            \"total_2\": total_2\n",
    "        }\n",
    "\n",
    "        csv_writer.writerow(info)\n",
    "        print(x_value, total_1, total_2)\n",
    "\n",
    "        x_value += 1\n",
    "        total_1 = total_1 + random.randint(-6, 8)\n",
    "        total_2 = total_2 + random.randint(-5, 6)\n",
    "\n",
    "    time.sleep(1)\n",
    "\n",
    "# ran (integrated terminal) "
   ]
  }
 ],
 "metadata": {
  "kernelspec": {
   "display_name": "base",
   "language": "python",
   "name": "python3"
  },
  "language_info": {
   "codemirror_mode": {
    "name": "ipython",
    "version": 3
   },
   "file_extension": ".py",
   "mimetype": "text/x-python",
   "name": "python",
   "nbconvert_exporter": "python",
   "pygments_lexer": "ipython3",
   "version": "3.11.5"
  }
 },
 "nbformat": 4,
 "nbformat_minor": 2
}
